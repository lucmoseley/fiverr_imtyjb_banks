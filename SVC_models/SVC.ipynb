{
 "cells": [
  {
   "cell_type": "markdown",
   "id": "fcc8dec7-0f72-4a89-be11-1341be6fc32e",
   "metadata": {},
   "source": [
    "# Import relevant modules and data"
   ]
  },
  {
   "cell_type": "code",
   "execution_count": 1,
   "id": "0424aee4-1828-40b4-96e2-f55ccbad05a0",
   "metadata": {},
   "outputs": [],
   "source": [
    "# Import relevant modules\n",
    "import pandas as pd\n",
    "import numpy as np\n",
    "from sklearn.model_selection import StratifiedKFold\n",
    "from sklearn.metrics import roc_auc_score\n",
    "from imblearn.over_sampling import SMOTE\n",
    "from sklearn.svm import SVC"
   ]
  },
  {
   "cell_type": "code",
   "execution_count": 2,
   "id": "43566e23-5667-40b3-ac1b-4fbfd14e2fd1",
   "metadata": {},
   "outputs": [],
   "source": [
    "# Load modified & cleaned personal loan data into a Pandas DataFrame\n",
    "df_loan_data = pd.read_pickle('df_loan_data.pkl')"
   ]
  },
  {
   "cell_type": "markdown",
   "id": "3a16b87f-5e16-44ff-ad54-d087c4ba1e3a",
   "metadata": {},
   "source": [
    "# Transform data to suit the SVC algorithm"
   ]
  },
  {
   "cell_type": "markdown",
   "id": "26e349ac-8018-41b0-ac39-3ab485a1bd8e",
   "metadata": {},
   "source": [
    "SVC models require scaled data. The data used here is pre-scaled from the data_preparation notebook."
   ]
  },
  {
   "cell_type": "markdown",
   "id": "0893a87f-aad7-41e6-a4a0-e18f7bdf081c",
   "metadata": {},
   "source": [
    "SVC models perform better with balanced classes (and this data has reasonably strong imbalance). This re-balancing will be handled via SMOTE techniques within model training"
   ]
  },
  {
   "cell_type": "markdown",
   "id": "23cff79c-987e-4bd3-83ef-deb2cc7135d6",
   "metadata": {},
   "source": [
    "# Train a model on all available features"
   ]
  },
  {
   "cell_type": "code",
   "execution_count": 3,
   "id": "2f2fa1b9-fe88-41f6-a396-998de1e47e04",
   "metadata": {},
   "outputs": [],
   "source": [
    "# Define the target variable\n",
    "target_variable = 'personal_loan'"
   ]
  },
  {
   "cell_type": "code",
   "execution_count": 4,
   "id": "e46d54d1-0f06-4afc-b2c9-a2cbf7ae9c72",
   "metadata": {},
   "outputs": [],
   "source": [
    "# Separate features and target variable\n",
    "X = df_loan_data.drop(columns=[target_variable])\n",
    "y = df_loan_data[target_variable]"
   ]
  },
  {
   "cell_type": "code",
   "execution_count": 5,
   "id": "a96a1d08-d1bb-40af-a47e-3e56049e8fad",
   "metadata": {},
   "outputs": [],
   "source": [
    "# Initialize cross-validation\n",
    "n_splits = 5  # You can adjust the number of folds\n",
    "skf = StratifiedKFold(n_splits=n_splits, shuffle=True, random_state=42)"
   ]
  },
  {
   "cell_type": "code",
   "execution_count": 6,
   "id": "2dc1dbef-acf5-4400-9265-67a6cfd57515",
   "metadata": {},
   "outputs": [],
   "source": [
    "# Initialize list to store results\n",
    "auc_scores = []"
   ]
  },
  {
   "cell_type": "code",
   "execution_count": 7,
   "id": "f0cbbb92-447d-4737-8e26-69191725b1fb",
   "metadata": {},
   "outputs": [],
   "source": [
    "# Perform cross-validation\n",
    "for train_index, test_index in skf.split(X, y):\n",
    "    X_train, X_test = X.iloc[train_index], X.iloc[test_index]\n",
    "    y_train, y_test = y.iloc[train_index], y.iloc[test_index]\n",
    "\n",
    "    # Apply SMOTE to oversample the minority class\n",
    "    smote = SMOTE(sampling_strategy='auto', random_state=42)\n",
    "    X_train_resampled, y_train_resampled = smote.fit_resample(X_train, y_train)\n",
    "\n",
    "    # Initialize the SVM model (Support Vector Classifier)\n",
    "    svm_model = SVC(probability=True, C=1.0, kernel='rbf')\n",
    "\n",
    "    # Fit the SVM model\n",
    "    svm_model.fit(X_train_resampled, y_train_resampled)\n",
    "\n",
    "    # Make predictions\n",
    "    y_pred = svm_model.predict(X_test)\n",
    "\n",
    "    # Calculate ROC AUC score\n",
    "    auc = roc_auc_score(y_test, y_pred)\n",
    "    auc_scores.append(auc)"
   ]
  },
  {
   "cell_type": "code",
   "execution_count": 8,
   "id": "a5366de8-1b9a-43ee-b201-45b099fceb5f",
   "metadata": {},
   "outputs": [
    {
     "name": "stdout",
     "output_type": "stream",
     "text": [
      "Mean AUC: 0.870810544469081\n"
     ]
    }
   ],
   "source": [
    "# Calculate the mean AUC score across cross-validation folds\n",
    "mean_auc = np.mean(auc_scores)\n",
    "print('Mean AUC: {}'.format(mean_auc))"
   ]
  },
  {
   "cell_type": "code",
   "execution_count": null,
   "id": "7c7cfb74-8219-4a97-86b6-27f3b0ad9e38",
   "metadata": {},
   "outputs": [],
   "source": []
  }
 ],
 "metadata": {
  "kernelspec": {
   "display_name": "Python 3 (ipykernel)",
   "language": "python",
   "name": "python3"
  },
  "language_info": {
   "codemirror_mode": {
    "name": "ipython",
    "version": 3
   },
   "file_extension": ".py",
   "mimetype": "text/x-python",
   "name": "python",
   "nbconvert_exporter": "python",
   "pygments_lexer": "ipython3",
   "version": "3.11.4"
  }
 },
 "nbformat": 4,
 "nbformat_minor": 5
}
