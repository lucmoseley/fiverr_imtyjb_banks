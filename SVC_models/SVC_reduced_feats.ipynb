{
 "cells": [
  {
   "cell_type": "markdown",
   "id": "fcc8dec7-0f72-4a89-be11-1341be6fc32e",
   "metadata": {},
   "source": [
    "# Import relevant modules and data"
   ]
  },
  {
   "cell_type": "code",
   "execution_count": 1,
   "id": "0424aee4-1828-40b4-96e2-f55ccbad05a0",
   "metadata": {},
   "outputs": [
    {
     "name": "stderr",
     "output_type": "stream",
     "text": [
      "/Users/clarerigby/anaconda3/envs/fiverr_imtyjb_banks/lib/python3.11/site-packages/tqdm/auto.py:21: TqdmWarning: IProgress not found. Please update jupyter and ipywidgets. See https://ipywidgets.readthedocs.io/en/stable/user_install.html\n",
      "  from .autonotebook import tqdm as notebook_tqdm\n"
     ]
    }
   ],
   "source": [
    "# Import relevant modules\n",
    "import numpy as np\n",
    "import pandas as pd\n",
    "import matplotlib.pyplot as plt\n",
    "from sklearn.model_selection import StratifiedKFold\n",
    "from sklearn.svm import SVC\n",
    "from sklearn.metrics import roc_auc_score\n",
    "from imblearn.over_sampling import SMOTE\n",
    "import optuna\n",
    "import pickle\n",
    "from sklearn.feature_selection import RFE"
   ]
  },
  {
   "cell_type": "code",
   "execution_count": 2,
   "id": "43566e23-5667-40b3-ac1b-4fbfd14e2fd1",
   "metadata": {},
   "outputs": [],
   "source": [
    "# Load modified & cleaned personal loan data into a Pandas DataFrame\n",
    "df_loan_data = pd.read_pickle('df_loan_data.pkl')"
   ]
  },
  {
   "cell_type": "markdown",
   "id": "3a16b87f-5e16-44ff-ad54-d087c4ba1e3a",
   "metadata": {},
   "source": [
    "# Transform data to suit the LGBM algorithm"
   ]
  },
  {
   "cell_type": "markdown",
   "id": "26e349ac-8018-41b0-ac39-3ab485a1bd8e",
   "metadata": {},
   "source": [
    "SVC models require scaled data. The data used here is pre-scaled from the data_preparation notebook."
   ]
  },
  {
   "cell_type": "markdown",
   "id": "0893a87f-aad7-41e6-a4a0-e18f7bdf081c",
   "metadata": {},
   "source": [
    "SVC models perform better with balanced classes (and this data has reasonably strong imbalance). This re-balancing will be handled via SMOTE techniques within model training"
   ]
  },
  {
   "cell_type": "markdown",
   "id": "7f5c9372-5eac-4817-a513-4542d667090c",
   "metadata": {},
   "source": [
    "# Perform RFA to determine the ideal feature set for this model\n",
    "Note this time we are doing feature addition instead of elimination, as this works better for SVC models"
   ]
  },
  {
   "cell_type": "code",
   "execution_count": 3,
   "id": "366c855d-b6fa-403e-beba-573fda2a4821",
   "metadata": {},
   "outputs": [],
   "source": [
    "# Load tuned best parameters from full-feature model\n",
    "with open('SVC_best_params.pkl', 'rb') as file:\n",
    "    params = pickle.load(file)"
   ]
  },
  {
   "cell_type": "code",
   "execution_count": 4,
   "id": "20e72a6f-de04-430b-8d57-774309da9487",
   "metadata": {},
   "outputs": [],
   "source": [
    "# Define the target variable\n",
    "target_variable = 'personal_loan'"
   ]
  },
  {
   "cell_type": "code",
   "execution_count": 5,
   "id": "8a6131d6-4203-49e3-8627-1582b3184fe0",
   "metadata": {},
   "outputs": [],
   "source": [
    "# Separate features and target variable\n",
    "X = df_loan_data.drop(columns=[target_variable])\n",
    "y = df_loan_data[target_variable]"
   ]
  },
  {
   "cell_type": "code",
   "execution_count": 6,
   "id": "d0efad9e-aa87-45c7-b8d5-871cc7553d86",
   "metadata": {},
   "outputs": [],
   "source": [
    "# Set up cross-validation\n",
    "n_splits = 5\n",
    "skf = StratifiedKFold(n_splits=n_splits, shuffle=True, random_state=42)"
   ]
  },
  {
   "cell_type": "code",
   "execution_count": 7,
   "id": "ba02b70b-1f11-4d9a-9ccb-a91d8b2ca0cd",
   "metadata": {},
   "outputs": [],
   "source": [
    "# Initialize RFA\n",
    "rfe = RFE(SVC(C=params['C'], kernel=params['kernel'], probability=True))"
   ]
  },
  {
   "cell_type": "code",
   "execution_count": 8,
   "id": "908790b3-6e32-4e6d-b6be-2d947d4c0e6c",
   "metadata": {},
   "outputs": [],
   "source": [
    "# Lists to store results\n",
    "num_features_list = []\n",
    "mean_AUC_list = [] "
   ]
  },
  {
   "cell_type": "code",
   "execution_count": 9,
   "id": "4787879d-0bee-4b0b-b103-21fa21b0f7dc",
   "metadata": {},
   "outputs": [],
   "source": [
    "# Define a custom function for evaluating AUC\n",
    "def evaluate_auc(X_train, y_train, X_valid, y_valid):\n",
    "    model = SVC(C=params['C'], kernel=params['kernel'], probability=True)\n",
    "    model.fit(X_train, y_train)\n",
    "    y_pred = model.predict_proba(X_valid)[:, 1]\n",
    "    return roc_auc_score(y_valid, y_pred)"
   ]
  },
  {
   "cell_type": "code",
   "execution_count": 10,
   "id": "77b88237-f189-4f98-8d2b-c1cdecc9c31e",
   "metadata": {},
   "outputs": [
    {
     "name": "stdout",
     "output_type": "stream",
     "text": [
      "Number of Features: 1, Best AUC: 0.921440009854644\n",
      "Number of Features: 2, Best AUC: 0.9347776545947277\n",
      "Number of Features: 3, Best AUC: 0.9441580438531658\n",
      "Number of Features: 4, Best AUC: 0.9449371766444937\n",
      "Number of Features: 5, Best AUC: 0.9498706577974869\n",
      "Number of Features: 6, Best AUC: 0.9508468834688347\n",
      "Number of Features: 7, Best AUC: 0.9518877802414388\n",
      "Number of Features: 8, Best AUC: 0.9527100271002711\n"
     ]
    }
   ],
   "source": [
    "# Loop through the feature elimination process\n",
    "for feature_idx in range(len(X.columns)):\n",
    "    rfe.n_features_to_select = feature_idx + 1\n",
    "    rfe.fit(X, y)\n",
    "    selected_features = rfe.support_\n",
    "    features_to_use = [i for i, select in enumerate(selected_features) if select]\n",
    "\n",
    "    auc_scores_fold = []  # AUC values for the current fold\n",
    "\n",
    "    for train_index, valid_index in skf.split(X, y):\n",
    "        X_train, X_valid = X.iloc[train_index, features_to_use], X.iloc[valid_index, features_to_use]\n",
    "        y_train, y_valid = y.iloc[train_index], y.iloc[valid_index]\n",
    "\n",
    "        # Apply SMOTE for class balancing\n",
    "        smote = SMOTE(sampling_strategy='auto', random_state=42)\n",
    "        X_train_resampled, y_train_resampled = smote.fit_resample(X_train, y_train)\n",
    "\n",
    "        # Evaluate model performance with AUC\n",
    "        auc = evaluate_auc(X_train_resampled, y_train_resampled, X_valid, y_valid)\n",
    "        auc_scores_fold.append(auc)\n",
    "\n",
    "    # Calculate the mean AUC for the current number of features\n",
    "    mean_AUC = np.mean(auc_scores_fold)\n",
    "    num_features_list.append(feature_idx + 1)\n",
    "    mean_AUC_list.append(mean_AUC)\n",
    "\n",
    "    # Store the best AUC for the fold\n",
    "    best_auc_fold = max(auc_scores_fold)\n",
    "    print('Number of Features: {}, Best AUC: {}'.format(feature_idx + 1, best_auc_fold))"
   ]
  },
  {
   "cell_type": "code",
   "execution_count": 11,
   "id": "42d2620f-97f8-46ff-8152-c63f02d885c8",
   "metadata": {},
   "outputs": [
    {
     "data": {
      "image/png": "[encoded data removed]",
      "text/plain": [
       "<Figure size 1000x600 with 1 Axes>"
      ]
     },
     "metadata": {},
     "output_type": "display_data"
    }
   ],
   "source": [
    "# Plot the change in AUC as features are added\n",
    "plt.figure(figsize=(10, 6))\n",
    "plt.plot(num_features_list, mean_AUC_list, marker='o')\n",
    "plt.title('Change in SVC AUC with Feature Addition and SMOTE')\n",
    "plt.xlabel('Number of Features')\n",
    "plt.ylabel('AUC')\n",
    "plt.grid(True)\n",
    "plt.show()"
   ]
  },
  {
   "cell_type": "code",
   "execution_count": 12,
   "id": "748c627e-cd72-4b7a-950a-5095300e42a4",
   "metadata": {},
   "outputs": [
    {
     "name": "stdout",
     "output_type": "stream",
     "text": [
      "Index(['family_size', 'education_level', 'income', 'fixed_deposit_acct',\n",
      "       'fin_exposure'],\n",
      "      dtype='object')\n"
     ]
    }
   ],
   "source": [
    "# Based on the SVC RFA analysis, we should keep the following 5 features\n",
    "rfe.n_features_to_select = 5\n",
    "rfe.fit(X, y)\n",
    "selected_feats = X.columns[rfe.support_]\n",
    "print(selected_feats)"
   ]
  },
  {
   "cell_type": "markdown",
   "id": "23cff79c-987e-4bd3-83ef-deb2cc7135d6",
   "metadata": {},
   "source": [
    "# Optimize the model with reduced features"
   ]
  },
  {
   "cell_type": "code",
   "execution_count": 13,
   "id": "a12d11b4-9c9c-430d-a8c2-9c27e5479cb7",
   "metadata": {},
   "outputs": [],
   "source": [
    "# Implement feature reduction\n",
    "df_loan_data = df_loan_data.loc[:, list(selected_feats) + [target_variable]]"
   ]
  },
  {
   "cell_type": "code",
   "execution_count": 14,
   "id": "fc2ea553-0f07-4ba6-bee6-4ae46a41a5b0",
   "metadata": {},
   "outputs": [],
   "source": [
    "# Separate features and target variable\n",
    "X = df_loan_data.drop(columns=[target_variable])\n",
    "y = df_loan_data[target_variable]"
   ]
  },
  {
   "cell_type": "code",
   "execution_count": 15,
   "id": "20afbf7a-7c2f-4222-bb61-cd3c1341b8c8",
   "metadata": {},
   "outputs": [],
   "source": [
    "# Set up cross-validation\n",
    "n_splits = 5\n",
    "skf = StratifiedKFold(n_splits=n_splits, shuffle=True, random_state=42)"
   ]
  },
  {
   "cell_type": "code",
   "execution_count": 25,
   "id": "b8e6ea4f-3212-44b4-9888-04b908a5721f",
   "metadata": {},
   "outputs": [],
   "source": [
    "# Define the objective function for Optuna\n",
    "def objective(trial):\n",
    "\n",
    "    # Only tune regularization parameter here, otherwise siginficantly change model type\n",
    "    C = trial.suggest_float('C', 0.01, 10, log=True)  \n",
    "\n",
    "    auc_scores = []\n",
    "\n",
    "    # Perform cross-validation\n",
    "    for train_index, test_index in skf.split(X, y):\n",
    "        X_train, X_test = X.iloc[train_index], X.iloc[test_index]\n",
    "        y_train, y_test = y.iloc[train_index], y.iloc[test_index]\n",
    "\n",
    "        # Apply SMOTE for class balancing\n",
    "        smote = SMOTE(sampling_strategy='auto', random_state=42)\n",
    "        X_train_resampled, y_train_resampled = smote.fit_resample(X_train, y_train)\n",
    "\n",
    "        # Create and train the SVM model\n",
    "        model = SVC(C=C, kernel='linear', probability=True)\n",
    "        model.fit(X_train_resampled, y_train_resampled)\n",
    "\n",
    "        # Make predictions\n",
    "        y_pred = model.predict_proba(X_test)[:, 1]\n",
    "\n",
    "        # Calculate ROC AUC score\n",
    "        auc = roc_auc_score(y_test, y_pred)\n",
    "        auc_scores.append(auc)\n",
    "\n",
    "    # Calculate the mean AUC score across cross-validation folds\n",
    "    mean_auc = np.mean(auc_scores)\n",
    "    return mean_auc"
   ]
  },
  {
   "cell_type": "code",
   "execution_count": 26,
   "id": "0f673e2b-e17d-46d5-a3ab-f6eff7b71fa7",
   "metadata": {},
   "outputs": [
    {
     "name": "stderr",
     "output_type": "stream",
     "text": [
      "[I 2023-10-13 23:59:43,810] A new study created in memory with name: no-name-ff77b07c-355b-4bdd-a4df-5ef2a623e17b\n",
      "[I 2023-10-13 23:59:49,611] Trial 0 finished with value: 0.9430567873860557 and parameters: {'C': 6.031465137197945}. Best is trial 0 with value: 0.9430567873860557.\n",
      "[I 2023-10-13 23:59:54,918] Trial 1 finished with value: 0.9430857354028086 and parameters: {'C': 1.3507838172349835}. Best is trial 1 with value: 0.9430857354028086.\n",
      "[I 2023-10-14 00:00:01,091] Trial 2 finished with value: 0.9433881497905888 and parameters: {'C': 0.21597063491686586}. Best is trial 2 with value: 0.9433881497905888.\n",
      "[I 2023-10-14 00:00:06,485] Trial 3 finished with value: 0.9431233062330623 and parameters: {'C': 0.8602893785918}. Best is trial 2 with value: 0.9433881497905888.\n",
      "[I 2023-10-14 00:00:11,874] Trial 4 finished with value: 0.9430955900468095 and parameters: {'C': 1.2346896868498682}. Best is trial 2 with value: 0.9433881497905888.\n",
      "[I 2023-10-14 00:00:19,908] Trial 5 finished with value: 0.9429951958610495 and parameters: {'C': 0.026479512278028614}. Best is trial 2 with value: 0.9433881497905888.\n",
      "[I 2023-10-14 00:00:26,152] Trial 6 finished with value: 0.9435778516876077 and parameters: {'C': 0.15957752719089618}. Best is trial 6 with value: 0.9435778516876077.\n",
      "[I 2023-10-14 00:00:31,905] Trial 7 finished with value: 0.9432581916728259 and parameters: {'C': 0.3079308834107408}. Best is trial 6 with value: 0.9435778516876077.\n",
      "[I 2023-10-14 00:00:37,621] Trial 8 finished with value: 0.9432341709780733 and parameters: {'C': 0.32363282447733555}. Best is trial 6 with value: 0.9435778516876077.\n",
      "[I 2023-10-14 00:00:43,172] Trial 9 finished with value: 0.9430740330130576 and parameters: {'C': 1.6345159170230943}. Best is trial 6 with value: 0.9435778516876077.\n"
     ]
    }
   ],
   "source": [
    "# Create an Optuna study and optimize the objective function\n",
    "study = optuna.create_study(direction='maximize')\n",
    "study.optimize(objective, n_trials=10)"
   ]
  },
  {
   "cell_type": "code",
   "execution_count": null,
   "id": "ed854936-39d6-4d3d-b5e3-fd67d68e2d64",
   "metadata": {},
   "outputs": [],
   "source": []
  },
  {
   "cell_type": "code",
   "execution_count": 29,
   "id": "06ad5717-e721-4223-a64e-63f08d026a98",
   "metadata": {},
   "outputs": [
    {
     "data": {
      "text/plain": [
       "0.8720485341217049"
      ]
     },
     "execution_count": 29,
     "metadata": {},
     "output_type": "execute_result"
    }
   ],
   "source": [
    "mean_auc"
   ]
  },
  {
   "cell_type": "code",
   "execution_count": null,
   "id": "905c8ef2-df08-455b-b288-8beb3e885779",
   "metadata": {},
   "outputs": [],
   "source": []
  },
  {
   "cell_type": "code",
   "execution_count": null,
   "id": "6089b280-9fee-4ce2-ae01-f610306ac01d",
   "metadata": {},
   "outputs": [],
   "source": []
  },
  {
   "cell_type": "code",
   "execution_count": 18,
   "id": "ede571c9-41b8-4628-b756-fde8fc208539",
   "metadata": {},
   "outputs": [
    {
     "name": "stdout",
     "output_type": "stream",
     "text": [
      "Best Hyperparameters: {'C': 0.18371352210091244}\n"
     ]
    }
   ],
   "source": [
    "# Get the best hyperparameters\n",
    "best_params = study.best_params\n",
    "print('Best Hyperparameters: {}'.format(best_params))"
   ]
  },
  {
   "cell_type": "code",
   "execution_count": 19,
   "id": "290b0e82-a1d6-4847-8c1c-d1a263520171",
   "metadata": {},
   "outputs": [],
   "source": [
    "# Save the finalized best params\n",
    "with open('SVC_reduced_best_params.pkl', 'wb') as file:\n",
    "    pickle.dump(best_params, file)"
   ]
  },
  {
   "cell_type": "markdown",
   "id": "6a20a47a-6db6-47b9-92d1-804fab380cae",
   "metadata": {},
   "source": [
    "# Train and evaluate a model using the best hyperparameters"
   ]
  },
  {
   "cell_type": "code",
   "execution_count": 43,
   "id": "e5c1e44b-779b-4345-b1cb-a25f25353b5f",
   "metadata": {},
   "outputs": [],
   "source": [
    "# Initialize lists to store results from best model\n",
    "auc_scores = []"
   ]
  },
  {
   "cell_type": "code",
   "execution_count": 44,
   "id": "3c4d02bc-a5c5-4c78-a116-db72af46bffd",
   "metadata": {},
   "outputs": [],
   "source": [
    "# Perform cross-validation\n",
    "for train_index, test_index in skf.split(X, y):\n",
    "    X_train, X_test = X.iloc[train_index], X.iloc[test_index]\n",
    "    y_train, y_test = y.iloc[train_index], y.iloc[test_index]\n",
    "\n",
    "    # Apply SMOTE to oversample the minority class\n",
    "    smote = SMOTE(sampling_strategy='auto', random_state=42)\n",
    "    X_train_resampled, y_train_resampled = smote.fit_resample(X_train, y_train)\n",
    "\n",
    "    # Initialize the SVM model (Support Vector Classifier)\n",
    "    svm_model = SVC(probability=True, C=best_params['C'], kernel='linear')\n",
    "\n",
    "    # Fit the SVM model\n",
    "    svm_model.fit(X_train_resampled, y_train_resampled)\n",
    "\n",
    "    # Make predictions\n",
    "    y_pred = svm_model.predict_proba(X_test)[:, 1]\n",
    "\n",
    "    # Calculate ROC AUC score\n",
    "    auc = roc_auc_score(y_test, y_pred)\n",
    "    auc_scores.append(auc)"
   ]
  },
  {
   "cell_type": "code",
   "execution_count": 45,
   "id": "e3efc7a6-4f6b-4922-98a3-df615197082a",
   "metadata": {},
   "outputs": [
    {
     "name": "stdout",
     "output_type": "stream",
     "text": [
      "Mean AUC: 0.9434830007390984\n"
     ]
    }
   ],
   "source": [
    "# Calculate the mean AUC score across cross-validation folds\n",
    "mean_auc = np.mean(auc_scores)\n",
    "print('Mean AUC: {}'.format(mean_auc))"
   ]
  },
  {
   "cell_type": "code",
   "execution_count": null,
   "id": "88c7dcbd-023a-472f-b694-511194445daa",
   "metadata": {},
   "outputs": [],
   "source": []
  },
  {
   "cell_type": "code",
   "execution_count": null,
   "id": "76df58f3-229a-4e24-9419-39d8a59ea632",
   "metadata": {},
   "outputs": [],
   "source": []
  }
 ],
 "metadata": {
  "kernelspec": {
   "display_name": "Python 3 (ipykernel)",
   "language": "python",
   "name": "python3"
  },
  "language_info": {
   "codemirror_mode": {
    "name": "ipython",
    "version": 3
   },
   "file_extension": ".py",
   "mimetype": "text/x-python",
   "name": "python",
   "nbconvert_exporter": "python",
   "pygments_lexer": "ipython3",
   "version": "3.11.4"
  }
 },
 "nbformat": 4,
 "nbformat_minor": 5
}
