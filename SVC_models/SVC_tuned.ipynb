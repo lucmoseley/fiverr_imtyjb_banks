{
 "cells": [
  {
   "cell_type": "markdown",
   "id": "fcc8dec7-0f72-4a89-be11-1341be6fc32e",
   "metadata": {},
   "source": [
    "# Import relevant modules and data"
   ]
  },
  {
   "cell_type": "code",
   "execution_count": 1,
   "id": "0424aee4-1828-40b4-96e2-f55ccbad05a0",
   "metadata": {},
   "outputs": [
    {
     "name": "stderr",
     "output_type": "stream",
     "text": [
      "/Users/clarerigby/anaconda3/envs/fiverr_imtyjb_banks/lib/python3.11/site-packages/tqdm/auto.py:21: TqdmWarning: IProgress not found. Please update jupyter and ipywidgets. See https://ipywidgets.readthedocs.io/en/stable/user_install.html\n",
      "  from .autonotebook import tqdm as notebook_tqdm\n"
     ]
    }
   ],
   "source": [
    "# Import relevant modules\n",
    "import numpy as np\n",
    "import pandas as pd\n",
    "from sklearn.model_selection import StratifiedKFold\n",
    "from sklearn.svm import SVC\n",
    "from sklearn.metrics import roc_auc_score\n",
    "from imblearn.over_sampling import SMOTE\n",
    "import optuna\n",
    "import pickle"
   ]
  },
  {
   "cell_type": "code",
   "execution_count": 2,
   "id": "43566e23-5667-40b3-ac1b-4fbfd14e2fd1",
   "metadata": {},
   "outputs": [],
   "source": [
    "# Load modified & cleaned personal loan data into a Pandas DataFrame\n",
    "df_loan_data = pd.read_pickle('df_loan_data.pkl')"
   ]
  },
  {
   "cell_type": "markdown",
   "id": "3a16b87f-5e16-44ff-ad54-d087c4ba1e3a",
   "metadata": {},
   "source": [
    "# Transform data to suit the LGBM algorithm"
   ]
  },
  {
   "cell_type": "markdown",
   "id": "26e349ac-8018-41b0-ac39-3ab485a1bd8e",
   "metadata": {},
   "source": [
    "SVC models require scaled data. The data used here is pre-scaled from the data_preparation notebook."
   ]
  },
  {
   "cell_type": "markdown",
   "id": "0893a87f-aad7-41e6-a4a0-e18f7bdf081c",
   "metadata": {},
   "source": [
    "SVC models perform better with balanced classes (and this data has reasonably strong imbalance). This re-balancing will be handled via SMOTE techniques within model training"
   ]
  },
  {
   "cell_type": "markdown",
   "id": "23cff79c-987e-4bd3-83ef-deb2cc7135d6",
   "metadata": {},
   "source": [
    "# Optimize the model as constructed in LGBM.ipynb"
   ]
  },
  {
   "cell_type": "code",
   "execution_count": 3,
   "id": "2f2fa1b9-fe88-41f6-a396-998de1e47e04",
   "metadata": {},
   "outputs": [],
   "source": [
    "# Define the target variable\n",
    "target_variable = 'personal_loan'"
   ]
  },
  {
   "cell_type": "code",
   "execution_count": 4,
   "id": "50391fef-298c-497f-a5a3-86433e96d7af",
   "metadata": {},
   "outputs": [],
   "source": [
    "# Separate features and target variable\n",
    "X = df_loan_data.drop(columns=[target_variable])\n",
    "y = df_loan_data[target_variable]"
   ]
  },
  {
   "cell_type": "code",
   "execution_count": 5,
   "id": "20afbf7a-7c2f-4222-bb61-cd3c1341b8c8",
   "metadata": {},
   "outputs": [],
   "source": [
    "# Set up cross-validation\n",
    "n_splits = 5\n",
    "skf = StratifiedKFold(n_splits=n_splits, shuffle=True, random_state=42)"
   ]
  },
  {
   "cell_type": "code",
   "execution_count": 6,
   "id": "b8e6ea4f-3212-44b4-9888-04b908a5721f",
   "metadata": {},
   "outputs": [],
   "source": [
    "# Define the objective function for Optuna\n",
    "def objective(trial):\n",
    "    C = trial.suggest_float('C', 0.01, 10, log=True)  # Regularization parameter\n",
    "    kernel = trial.suggest_categorical('kernel', ['linear', 'poly', 'rbf', 'sigmoid'])  # Kernel function\n",
    "    degree = trial.suggest_int('degree', 2, 5) if kernel == 'poly' else 3  # Polynomial degree should be 3\n",
    "\n",
    "    auc_scores = []\n",
    "\n",
    "    # Perform cross-validation\n",
    "    for train_index, test_index in skf.split(X, y):\n",
    "        X_train, X_test = X.iloc[train_index], X.iloc[test_index]\n",
    "        y_train, y_test = y.iloc[train_index], y.iloc[test_index]\n",
    "\n",
    "        # Apply SMOTE for class balancing\n",
    "        smote = SMOTE(sampling_strategy='auto', random_state=42)\n",
    "        X_train_resampled, y_train_resampled = smote.fit_resample(X_train, y_train)\n",
    "\n",
    "        # Create and train the SVM model\n",
    "        model = SVC(C=C, kernel=kernel, degree=degree, probability=True)\n",
    "        model.fit(X_train_resampled, y_train_resampled)\n",
    "\n",
    "        # Make predictions\n",
    "        y_pred = model.predict_proba(X_test)[:, 1]\n",
    "\n",
    "        # Calculate ROC AUC score\n",
    "        auc = roc_auc_score(y_test, y_pred)\n",
    "        auc_scores.append(auc)\n",
    "\n",
    "    # Calculate the mean AUC score across cross-validation folds\n",
    "    mean_auc = np.mean(auc_scores)\n",
    "    return mean_auc"
   ]
  },
  {
   "cell_type": "code",
   "execution_count": 7,
   "id": "0f673e2b-e17d-46d5-a3ab-f6eff7b71fa7",
   "metadata": {},
   "outputs": [
    {
     "name": "stderr",
     "output_type": "stream",
     "text": [
      "[I 2023-10-13 23:40:18,103] A new study created in memory with name: no-name-c9eec864-374b-4f2c-bf33-4c9d9482d846\n",
      "[I 2023-10-13 23:40:46,042] Trial 0 finished with value: 0.7819413648681942 and parameters: {'C': 2.7360599238526806, 'kernel': 'sigmoid'}. Best is trial 0 with value: 0.7819413648681942.\n",
      "[I 2023-10-13 23:40:57,036] Trial 1 finished with value: 0.9389769647696478 and parameters: {'C': 0.010334206334181634, 'kernel': 'linear'}. Best is trial 1 with value: 0.9389769647696478.\n",
      "[I 2023-10-13 23:41:05,865] Trial 2 finished with value: 0.9362010347376201 and parameters: {'C': 5.459382766819612, 'kernel': 'rbf'}. Best is trial 1 with value: 0.9389769647696478.\n",
      "[I 2023-10-13 23:41:33,854] Trial 3 finished with value: 0.7815779748706578 and parameters: {'C': 0.6092043375709799, 'kernel': 'sigmoid'}. Best is trial 1 with value: 0.9389769647696478.\n",
      "[I 2023-10-13 23:42:01,955] Trial 4 finished with value: 0.7808518107908353 and parameters: {'C': 0.2670626890491237, 'kernel': 'sigmoid'}. Best is trial 1 with value: 0.9389769647696478.\n",
      "[I 2023-10-13 23:42:30,287] Trial 5 finished with value: 0.7778609263365361 and parameters: {'C': 0.08162133463197452, 'kernel': 'sigmoid'}. Best is trial 1 with value: 0.9389769647696478.\n",
      "[I 2023-10-13 23:42:41,347] Trial 6 finished with value: 0.9432021433850701 and parameters: {'C': 0.23326738450200207, 'kernel': 'rbf'}. Best is trial 6 with value: 0.9432021433850701.\n",
      "[I 2023-10-13 23:42:50,901] Trial 7 finished with value: 0.9410482877556049 and parameters: {'C': 1.0088580840450594, 'kernel': 'rbf'}. Best is trial 6 with value: 0.9432021433850701.\n",
      "[I 2023-10-13 23:43:00,005] Trial 8 finished with value: 0.9357834441980784 and parameters: {'C': 6.117823717604574, 'kernel': 'rbf'}. Best is trial 6 with value: 0.9432021433850701.\n",
      "[I 2023-10-13 23:43:07,520] Trial 9 finished with value: 0.9422394678492241 and parameters: {'C': 0.24687542266054657, 'kernel': 'poly', 'degree': 3}. Best is trial 6 with value: 0.9432021433850701.\n",
      "[I 2023-10-13 23:43:15,759] Trial 10 finished with value: 0.9447764227642278 and parameters: {'C': 0.055812802898494905, 'kernel': 'linear'}. Best is trial 10 with value: 0.9447764227642278.\n",
      "[I 2023-10-13 23:43:23,787] Trial 11 finished with value: 0.9448460211874845 and parameters: {'C': 0.06518041910547084, 'kernel': 'linear'}. Best is trial 11 with value: 0.9448460211874845.\n",
      "[I 2023-10-13 23:43:32,856] Trial 12 finished with value: 0.9445220497659521 and parameters: {'C': 0.03814840174859329, 'kernel': 'linear'}. Best is trial 11 with value: 0.9448460211874845.\n",
      "[I 2023-10-13 23:43:40,965] Trial 13 finished with value: 0.9448035230352303 and parameters: {'C': 0.06431715123962273, 'kernel': 'linear'}. Best is trial 11 with value: 0.9448460211874845.\n",
      "[I 2023-10-13 23:43:50,802] Trial 14 finished with value: 0.9432298595713231 and parameters: {'C': 0.021509500020454358, 'kernel': 'linear'}. Best is trial 11 with value: 0.9448460211874845.\n",
      "[I 2023-10-13 23:43:58,574] Trial 15 finished with value: 0.9448620349839862 and parameters: {'C': 0.09234469332496892, 'kernel': 'linear'}. Best is trial 15 with value: 0.9448620349839862.\n",
      "[I 2023-10-13 23:44:10,575] Trial 16 finished with value: 0.9249907612712491 and parameters: {'C': 0.134417327540246, 'kernel': 'poly', 'degree': 5}. Best is trial 15 with value: 0.9448620349839862.\n",
      "[I 2023-10-13 23:44:18,031] Trial 17 finished with value: 0.9448903670854889 and parameters: {'C': 0.12547980708984272, 'kernel': 'linear'}. Best is trial 17 with value: 0.9448903670854889.\n",
      "[I 2023-10-13 23:44:25,771] Trial 18 finished with value: 0.9448903670854889 and parameters: {'C': 0.11523219102069546, 'kernel': 'linear'}. Best is trial 17 with value: 0.9448903670854889.\n",
      "[I 2023-10-13 23:44:32,414] Trial 19 finished with value: 0.9445491500369549 and parameters: {'C': 0.5955444032593847, 'kernel': 'linear'}. Best is trial 17 with value: 0.9448903670854889.\n"
     ]
    }
   ],
   "source": [
    "# Create an Optuna study and optimize the objective function\n",
    "study = optuna.create_study(direction='maximize')\n",
    "study.optimize(objective, n_trials=20)"
   ]
  },
  {
   "cell_type": "code",
   "execution_count": 8,
   "id": "ede571c9-41b8-4628-b756-fde8fc208539",
   "metadata": {},
   "outputs": [
    {
     "name": "stdout",
     "output_type": "stream",
     "text": [
      "Best Hyperparameters: {'C': 0.12547980708984272, 'kernel': 'linear'}\n"
     ]
    }
   ],
   "source": [
    "# Get the best hyperparameters\n",
    "best_params = study.best_params\n",
    "print('Best Hyperparameters: {}'.format(best_params))"
   ]
  },
  {
   "cell_type": "code",
   "execution_count": 9,
   "id": "b96a468a-cc6b-4ab5-a359-6dfba0421cbd",
   "metadata": {},
   "outputs": [],
   "source": [
    "# Save the best params\n",
    "with open('SVC_best_params.pkl', 'wb') as file:\n",
    "    pickle.dump(best_params, file)"
   ]
  },
  {
   "cell_type": "markdown",
   "id": "6a20a47a-6db6-47b9-92d1-804fab380cae",
   "metadata": {},
   "source": [
    "# Train and evaluate a model using the best hyperparameters"
   ]
  },
  {
   "cell_type": "code",
   "execution_count": 10,
   "id": "e5c1e44b-779b-4345-b1cb-a25f25353b5f",
   "metadata": {},
   "outputs": [],
   "source": [
    "# Initialize lists to store results from best model\n",
    "auc_scores = []"
   ]
  },
  {
   "cell_type": "code",
   "execution_count": 11,
   "id": "3c4d02bc-a5c5-4c78-a116-db72af46bffd",
   "metadata": {},
   "outputs": [],
   "source": [
    "# Perform cross-validation\n",
    "for train_index, test_index in skf.split(X, y):\n",
    "    X_train, X_test = X.iloc[train_index], X.iloc[test_index]\n",
    "    y_train, y_test = y.iloc[train_index], y.iloc[test_index]\n",
    "\n",
    "    # Apply SMOTE to oversample the minority class\n",
    "    smote = SMOTE(sampling_strategy='auto', random_state=42)\n",
    "    X_train_resampled, y_train_resampled = smote.fit_resample(X_train, y_train)\n",
    "\n",
    "    # Create and train the SVM model with the best hyperparameters\n",
    "    model = SVC(C=best_params['C'], kernel=best_params['kernel'], probability=True)\n",
    "    model.fit(X_train_resampled, y_train_resampled)\n",
    "\n",
    "    # Make predictions\n",
    "    y_pred = model.predict_proba(X_test)[:, 1]\n",
    "\n",
    "    # Calculate ROC AUC score\n",
    "    auc = roc_auc_score(y_test, y_pred)\n",
    "    auc_scores.append(auc)"
   ]
  },
  {
   "cell_type": "code",
   "execution_count": 12,
   "id": "e3efc7a6-4f6b-4922-98a3-df615197082a",
   "metadata": {},
   "outputs": [
    {
     "name": "stdout",
     "output_type": "stream",
     "text": [
      "Mean AUC: 0.9448903670854889\n"
     ]
    }
   ],
   "source": [
    "# Calculate the mean AUC score across cross-validation folds\n",
    "mean_auc = np.mean(auc_scores)\n",
    "print('Mean AUC: {}'.format(mean_auc))"
   ]
  },
  {
   "cell_type": "code",
   "execution_count": null,
   "id": "b6b0dfcb-54af-4a40-b702-a71596f9c75d",
   "metadata": {},
   "outputs": [],
   "source": []
  }
 ],
 "metadata": {
  "kernelspec": {
   "display_name": "Python 3 (ipykernel)",
   "language": "python",
   "name": "python3"
  },
  "language_info": {
   "codemirror_mode": {
    "name": "ipython",
    "version": 3
   },
   "file_extension": ".py",
   "mimetype": "text/x-python",
   "name": "python",
   "nbconvert_exporter": "python",
   "pygments_lexer": "ipython3",
   "version": "3.11.4"
  }
 },
 "nbformat": 4,
 "nbformat_minor": 5
}
